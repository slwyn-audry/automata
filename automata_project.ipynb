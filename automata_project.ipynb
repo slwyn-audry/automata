{
 "cells": [
  {
   "cell_type": "code",
   "execution_count": 81,
   "metadata": {},
   "outputs": [
    {
     "name": "stdout",
     "output_type": "stream",
     "text": [
      "Valid Citation.\n",
      "\n",
      "[Recognized Information]\n",
      "\n",
      "[Last Name:]         Andreff,\n",
      "[Initial:]           P.\n",
      "[Year:]              (2000).\n",
      "[Article Title:]     P.\n",
      "[Journal Title:]     Journal of Sports Economics,\n",
      "[Volume and Issue:]  1(3),\n",
      "[Pages:]             257–276.\n",
      "[DOI:]               https://doi.org/10.1177/152700250000100304\n"
     ]
    }
   ],
   "source": [
    "import re\n",
    "\n",
    "#APA 7 Journal Article Citation Format\n",
    "#Author’s Last Name, Initial(s). (Year of publication). Title of article. Title of Journal, Volume(Issue), Pages. https://doi.org/DOI\n",
    "pattern = r\"^(?P<Last_Name>[A-Z][a-z]+[,])(?P<Initial> [A-Z][.])(?P<Year> \\([0-9]{4}\\)[.])(?P<Article_Title> [\\w\\s]+[.])(?P<Journal_Title> [\\w\\s]+[,])(?P<Volume_Issue> [\\d]+\\([\\d]+\\)[,])(?P<Pages> [\\d]+[-|–][\\d]+[.])(?P<DOI> https:\\/\\/doi.org\\/[A-Za-z0-9./]+)$\"\n",
    "last_name = r\"^([A-Z][a-z]+[,])\"\n",
    "initial = r\"( [A-Z][.])\"\n",
    "year = r\"( \\([0-9]{4}\\)[.])\"\n",
    "article = r\"( [\\w\\s]+[.])\"\n",
    "journal = r\"( [\\w\\s]+[,])\"\n",
    "volume_issue = r\"( [\\d]+\\([\\d]+\\)[,])\"\n",
    "pages = r\"( [\\d]+[-|–][\\d]+[.])\"\n",
    "doi = r\"( https:\\/\\/doi.org\\/[A-Za-z0-9./]+)$\"\n",
    "\n",
    "citation = \"Andreff, P. (2000). The evolving European model of professional sports finance. Journal of Sports Economics, 1(3), 257–276. https://doi.org/10.1177/152700250000100304\"\n",
    "\n",
    "match = re.search(pattern, citation)\n",
    "\n",
    "if match:\n",
    "    print(\"Valid Citation.\", end=\"\")\n",
    "else:\n",
    "    print(\"Invalid Citation.\", end=\"\")\n",
    "    if not re.search(last_name, citation):\n",
    "        print(\" Author\\'s Last Name not found or not in correct format.\", end=\"\")\n",
    "    if not re.search(initial, citation):\n",
    "        print(\" Author\\'s Initial not found or not in correct format.\", end=\"\")\n",
    "    if not re.search(year, citation):\n",
    "        print(\" Year not found or not in correct format.\", end=\"\")\n",
    "    if not re.search(article, citation):\n",
    "        print(\" Article Title not found or not in correct format.\", end=\"\")\n",
    "    if not re.search(journal, citation):\n",
    "        print(\" Journal Title not found or not in correct format.\", end=\"\")\n",
    "    if not re.search(volume_issue, citation):\n",
    "        print(\" Volume and Issue Number not found or not in correct format.\", end=\"\")\n",
    "    if not re.search(pages, citation):\n",
    "        print(\" Pages not found or not in correct format.\", end=\"\")\n",
    "    if not re.search(doi, citation):\n",
    "        print(\" DOI not found or not in correct format.\", end=\"\")\n",
    "\n",
    "print(\"\\n\\n[Recognized Information]\\n\")\n",
    "print(f'{\"[Last Name:]\" : <20}', end=\" \")\n",
    "if re.search(last_name, citation):\n",
    "    print(re.search(last_name, citation).group())\n",
    "else:\n",
    "    print(\"\")\n",
    "print(f'{\"[Initial:]\" : <20}', end=\"\")\n",
    "if re.search(initial, citation):\n",
    "    print(re.search(initial, citation).group())\n",
    "else:\n",
    "    print(\"\")\n",
    "print(f'{\"[Year:]\" : <20}', end=\"\")\n",
    "if re.search(year, citation):\n",
    "    print(re.search(year, citation).group())\n",
    "else:\n",
    "    print(\"\")\n",
    "print(f'{\"[Article Title:]\" : <20}', end=\"\")\n",
    "if re.search(article, citation):\n",
    "    print(re.search(article, citation).group())\n",
    "else:\n",
    "    print(\"\")\n",
    "print(f'{\"[Journal Title:]\" : <20}', end=\"\")\n",
    "if re.search(journal, citation):\n",
    "    print(re.search(journal, citation).group())\n",
    "else:\n",
    "    print(\"\")\n",
    "print(f'{\"[Volume and Issue:]\" : <20}', end=\"\")\n",
    "if re.search(volume_issue, citation):\n",
    "    print(re.search(volume_issue, citation).group())\n",
    "else:\n",
    "    print(\"\")\n",
    "print(f'{\"[Pages:]\" : <20}', end=\"\")\n",
    "if re.search(pages, citation):\n",
    "    print(re.search(pages, citation).group())\n",
    "else:\n",
    "    print(\"\")\n",
    "print(f'{\"[DOI:]\" : <20}', end=\"\")\n",
    "if re.search(doi, citation):\n",
    "    print(re.search(doi, citation).group())\n",
    "else:\n",
    "    print(\"\")"
   ]
  }
 ],
 "metadata": {
  "kernelspec": {
   "display_name": "base",
   "language": "python",
   "name": "python3"
  },
  "language_info": {
   "codemirror_mode": {
    "name": "ipython",
    "version": 3
   },
   "file_extension": ".py",
   "mimetype": "text/x-python",
   "name": "python",
   "nbconvert_exporter": "python",
   "pygments_lexer": "ipython3",
   "version": "3.9.13"
  },
  "orig_nbformat": 4,
  "vscode": {
   "interpreter": {
    "hash": "3b66e19c20dc6ac1ca2de1f1585de17f577fc09905d6b2dfaeff16ea6afe7614"
   }
  }
 },
 "nbformat": 4,
 "nbformat_minor": 2
}
