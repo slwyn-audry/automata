{
 "cells": [
  {
   "cell_type": "code",
   "execution_count": 66,
   "metadata": {},
   "outputs": [
    {
     "name": "stdout",
     "output_type": "stream",
     "text": [
      "Valid Citation.\n",
      "\n",
      "[Author's Last Name & Initial:]   Andreff, P.\n",
      "[Publication Year:]                (2000).\n",
      "[Article Title:]                   The evolving European model of professional sports finance.\n",
      "[Journal Title:]                   Journal of Sports Economics,\n",
      "[Volume & Issue No.:]              1(3),\n",
      "[Pages:]                           257–276.\n",
      "[DOI:]                             https://doi.org/10.1177/152700250000100304\n"
     ]
    }
   ],
   "source": [
    "import re\n",
    "\n",
    "#APA 7 Journal Article Citation Format in RegEx\n",
    "#Author’s Last Name, Initial(s). (Year of publication). Title of article. Title of Journal, Volume(Issue), Pages. https://doi.org/DOI\n",
    "pattern = r\"^([A-Z][a-z]+[,] ([A-Z][.])+)( \\([0-9]{4}\\)[.])( [\\w\\s]+[.])( [\\w\\s]+[,])( [\\d]+\\([\\d]+\\)[,])( [\\d]+[-|–][\\d]+[.])( https:\\/\\/doi.org\\/[A-Za-z0-9./]+)$\"\n",
    "\n",
    "#Pattern for specific information matching contained in a list\n",
    "exp = [r\"^([A-Z][a-z]+[,] ([A-Z][.])+)\", r\"( \\([0-9]{4}\\)[.])\", r\"( [\\w\\s]+[.])\", r\"( [\\w\\s]+[,])\", r\"( [\\d]+\\([\\d]+\\)[,])\", r\"( [\\d]+[-|–][\\d]+[.])\", r\"( https:\\/\\/doi.org\\/[A-Za-z0-9./]+)$\"]\n",
    "name = [\"Author's Last Name & Initial\", \"Publication Year\", \"Article Title\", \"Journal Title\", \"Volume & Issue No.\", \"Pages\", \"DOI\"]\n",
    "\n",
    "citation = \"Andreff, P. (2000). The evolving European model of professional sports finance. Journal of Sports Economics, 1(3), 257–276. https://doi.org/10.1177/152700250000100304\"\n",
    "temp = citation\n",
    "\n",
    "#Pattern matching using re.search function\n",
    "match = re.search(pattern, citation)\n",
    "\n",
    "#Pattern matched = Valid citation else Invalid Citation\n",
    "if match:\n",
    "    print(\"Valid Citation.\\n\")\n",
    "else:\n",
    "    print(\"Invalid Citation.\\n\")\n",
    "\n",
    "#Pattern matching for specific information using for loop\n",
    "for i in range(7):\n",
    "    print(f'{\"[\"+name[i]+\":]\" : <33}', end=\" \")\n",
    "\n",
    "    if re.search(exp[i], temp):\n",
    "        print(re.search(exp[i], temp).group())\n",
    "        temp = re.sub(exp[i], \"\", temp)\n",
    "    else:\n",
    "        print(name[i]+\" not found or not in correct format.\")"
   ]
  }
 ],
 "metadata": {
  "kernelspec": {
   "display_name": "base",
   "language": "python",
   "name": "python3"
  },
  "language_info": {
   "codemirror_mode": {
    "name": "ipython",
    "version": 3
   },
   "file_extension": ".py",
   "mimetype": "text/x-python",
   "name": "python",
   "nbconvert_exporter": "python",
   "pygments_lexer": "ipython3",
   "version": "3.9.13"
  },
  "orig_nbformat": 4,
  "vscode": {
   "interpreter": {
    "hash": "3b66e19c20dc6ac1ca2de1f1585de17f577fc09905d6b2dfaeff16ea6afe7614"
   }
  }
 },
 "nbformat": 4,
 "nbformat_minor": 2
}
